{
 "cells": [
  {
   "cell_type": "markdown",
   "id": "1f2bcaf8",
   "metadata": {},
   "source": [
    "# Model Comparison\n",
    "\n",
    "This notebook summarizes and compares the performance of all models tested in this project:  \n",
    "- Logistic Regression  \n",
    "- Decision Tree  \n",
    "- Random Forest  \n",
    "- Gradient Boosting  \n",
    "- Support Vector Machine (SVM, RBF kernel)  \n",
    "\n",
    "The goal is to identify which model provides the best balance of accuracy, precision, recall, F1-score, and ROC AUC on the test set.\n",
    "\n",
    "---\n",
    "\n",
    "## Performance Summary\n",
    "\n",
    "| Model                  | Best Threshold | Accuracy | Precision | Recall | F1-score | ROC AUC |\n",
    "|-------------------------|----------------|----------|-----------|--------|----------|---------|\n",
    "| **Logistic Regression** | 0.3            | 0.75     | 0.71      | 0.92   | 0.80     | 0.804   |\n",
    "| **Decision Tree**       | 0.4–0.3        | 0.88     | 0.81      | 1.00   | 0.90     | 0.671   |\n",
    "| **Random Forest**       | 0.3            | 0.79     | 0.72      | 1.00   | 0.84     | 0.839   |\n",
    "| **Gradient Boosting**   | 0.3            | 0.92     | 0.87      | 1.00   | 0.93     | 0.888   |\n",
    "| **SVM (RBF)**           | 0.4            | 0.88     | 0.86      | 0.92   | 0.89     | 0.874   |\n",
    "\n",
    "---\n",
    "\n",
    "## Conclusion\n",
    "\n",
    "- The **Gradient Boosting Classifier** achieved the strongest overall performance, with the best accuracy (0.92), F1-score (0.93), and perfect recall (1.0), while also achieving the highest ROC AUC (0.888).  \n",
    "- The **SVM with RBF kernel** was a close second, showing stable and well-balanced results with a strong ROC AUC (0.874).  \n",
    "- The **Decision Tree** reached perfect recall but had the weakest ROC AUC, indicating poor discrimination overall.  \n",
    "- The **Random Forest** improved recall but lagged behind Gradient Boosting in precision and overall balance.  \n",
    "- **Logistic Regression** provided a reasonable baseline but underperformed compared to tree-based methods and SVM.  \n",
    "\n",
    "Overall, **Gradient Boosting** is selected as the best-performing model for this dataset, followed closely by **SVM (RBF kernel)**.  \n"
   ]
  }
 ],
 "metadata": {
  "kernelspec": {
   "display_name": "Python (cleanpy)",
   "language": "python",
   "name": "cleanpy"
  },
  "language_info": {
   "codemirror_mode": {
    "name": "ipython",
    "version": 3
   },
   "file_extension": ".py",
   "mimetype": "text/x-python",
   "name": "python",
   "nbconvert_exporter": "python",
   "pygments_lexer": "ipython3",
   "version": "3.11.13"
  }
 },
 "nbformat": 4,
 "nbformat_minor": 5
}
