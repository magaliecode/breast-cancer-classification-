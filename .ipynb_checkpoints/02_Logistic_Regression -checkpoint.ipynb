{
 "cells": [
  {
   "cell_type": "markdown",
   "id": "d8735af1",
   "metadata": {},
   "source": [
    "# Logistic regression \n",
    "## 1. Data preprocessing \n",
    "\n",
    "In the EDA section, we saw that there were no missing values in the dataset and there are no categorical features. \n",
    "### 1.1 Feature selection\n",
    "In logistic regression model, extreme multicollinearity leads to unstable and inflated coefficient estimates. It reduces interpretability, which is a key strength of logistic regression. It also increases variance in coefficients, reducing model reliability, and it carries redundant information, unnecessarily increasing model complexity.\n",
    "\n",
    "For those reasons, we are going to drop HOMA since it has the highest VIF (>10). "
   ]
  },
  {
   "cell_type": "code",
   "execution_count": 2,
   "id": "32232fd8",
   "metadata": {},
   "outputs": [],
   "source": [
    "import numpy as np\n",
    "import pandas as pd\n",
    "import matplotlib.pyplot as plt\n",
    "import seaborn as sns"
   ]
  },
  {
   "cell_type": "code",
   "execution_count": 3,
   "id": "69e94db3",
   "metadata": {},
   "outputs": [
    {
     "data": {
      "text/html": [
       "<div>\n",
       "<style scoped>\n",
       "    .dataframe tbody tr th:only-of-type {\n",
       "        vertical-align: middle;\n",
       "    }\n",
       "\n",
       "    .dataframe tbody tr th {\n",
       "        vertical-align: top;\n",
       "    }\n",
       "\n",
       "    .dataframe thead th {\n",
       "        text-align: right;\n",
       "    }\n",
       "</style>\n",
       "<table border=\"1\" class=\"dataframe\">\n",
       "  <thead>\n",
       "    <tr style=\"text-align: right;\">\n",
       "      <th></th>\n",
       "      <th>Age</th>\n",
       "      <th>BMI</th>\n",
       "      <th>Glucose</th>\n",
       "      <th>Insulin</th>\n",
       "      <th>HOMA</th>\n",
       "      <th>Leptin</th>\n",
       "      <th>Adiponectin</th>\n",
       "      <th>Resistin</th>\n",
       "      <th>MCP.1</th>\n",
       "      <th>Classification</th>\n",
       "      <th>target</th>\n",
       "    </tr>\n",
       "  </thead>\n",
       "  <tbody>\n",
       "    <tr>\n",
       "      <th>0</th>\n",
       "      <td>48</td>\n",
       "      <td>23.500000</td>\n",
       "      <td>70</td>\n",
       "      <td>2.707</td>\n",
       "      <td>0.467409</td>\n",
       "      <td>8.8071</td>\n",
       "      <td>9.702400</td>\n",
       "      <td>7.99585</td>\n",
       "      <td>417.114</td>\n",
       "      <td>1</td>\n",
       "      <td>0</td>\n",
       "    </tr>\n",
       "    <tr>\n",
       "      <th>1</th>\n",
       "      <td>83</td>\n",
       "      <td>20.690495</td>\n",
       "      <td>92</td>\n",
       "      <td>3.115</td>\n",
       "      <td>0.706897</td>\n",
       "      <td>8.8438</td>\n",
       "      <td>5.429285</td>\n",
       "      <td>4.06405</td>\n",
       "      <td>468.786</td>\n",
       "      <td>1</td>\n",
       "      <td>0</td>\n",
       "    </tr>\n",
       "    <tr>\n",
       "      <th>2</th>\n",
       "      <td>82</td>\n",
       "      <td>23.124670</td>\n",
       "      <td>91</td>\n",
       "      <td>4.498</td>\n",
       "      <td>1.009651</td>\n",
       "      <td>17.9393</td>\n",
       "      <td>22.432040</td>\n",
       "      <td>9.27715</td>\n",
       "      <td>554.697</td>\n",
       "      <td>1</td>\n",
       "      <td>0</td>\n",
       "    </tr>\n",
       "    <tr>\n",
       "      <th>3</th>\n",
       "      <td>68</td>\n",
       "      <td>21.367521</td>\n",
       "      <td>77</td>\n",
       "      <td>3.226</td>\n",
       "      <td>0.612725</td>\n",
       "      <td>9.8827</td>\n",
       "      <td>7.169560</td>\n",
       "      <td>12.76600</td>\n",
       "      <td>928.220</td>\n",
       "      <td>1</td>\n",
       "      <td>0</td>\n",
       "    </tr>\n",
       "    <tr>\n",
       "      <th>4</th>\n",
       "      <td>86</td>\n",
       "      <td>21.111111</td>\n",
       "      <td>92</td>\n",
       "      <td>3.549</td>\n",
       "      <td>0.805386</td>\n",
       "      <td>6.6994</td>\n",
       "      <td>4.819240</td>\n",
       "      <td>10.57635</td>\n",
       "      <td>773.920</td>\n",
       "      <td>1</td>\n",
       "      <td>0</td>\n",
       "    </tr>\n",
       "  </tbody>\n",
       "</table>\n",
       "</div>"
      ],
      "text/plain": [
       "   Age        BMI  Glucose  Insulin      HOMA   Leptin  Adiponectin  Resistin  \\\n",
       "0   48  23.500000       70    2.707  0.467409   8.8071     9.702400   7.99585   \n",
       "1   83  20.690495       92    3.115  0.706897   8.8438     5.429285   4.06405   \n",
       "2   82  23.124670       91    4.498  1.009651  17.9393    22.432040   9.27715   \n",
       "3   68  21.367521       77    3.226  0.612725   9.8827     7.169560  12.76600   \n",
       "4   86  21.111111       92    3.549  0.805386   6.6994     4.819240  10.57635   \n",
       "\n",
       "     MCP.1  Classification  target  \n",
       "0  417.114               1       0  \n",
       "1  468.786               1       0  \n",
       "2  554.697               1       0  \n",
       "3  928.220               1       0  \n",
       "4  773.920               1       0  "
      ]
     },
     "execution_count": 3,
     "metadata": {},
     "output_type": "execute_result"
    }
   ],
   "source": [
    "data=pd.read_csv(\"dataR2.csv\")\n",
    "data[\"target\"] = data[\"Classification\"].map({1: 0, 2: 1})\n",
    "data.head()"
   ]
  },
  {
   "cell_type": "code",
   "execution_count": 4,
   "id": "3126e2c7",
   "metadata": {},
   "outputs": [
    {
     "data": {
      "text/html": [
       "<div>\n",
       "<style scoped>\n",
       "    .dataframe tbody tr th:only-of-type {\n",
       "        vertical-align: middle;\n",
       "    }\n",
       "\n",
       "    .dataframe tbody tr th {\n",
       "        vertical-align: top;\n",
       "    }\n",
       "\n",
       "    .dataframe thead th {\n",
       "        text-align: right;\n",
       "    }\n",
       "</style>\n",
       "<table border=\"1\" class=\"dataframe\">\n",
       "  <thead>\n",
       "    <tr style=\"text-align: right;\">\n",
       "      <th></th>\n",
       "      <th>Age</th>\n",
       "      <th>BMI</th>\n",
       "      <th>Glucose</th>\n",
       "      <th>Insulin</th>\n",
       "      <th>Leptin</th>\n",
       "      <th>Adiponectin</th>\n",
       "      <th>Resistin</th>\n",
       "      <th>MCP.1</th>\n",
       "      <th>Classification</th>\n",
       "      <th>target</th>\n",
       "    </tr>\n",
       "  </thead>\n",
       "  <tbody>\n",
       "    <tr>\n",
       "      <th>0</th>\n",
       "      <td>48</td>\n",
       "      <td>23.500000</td>\n",
       "      <td>70</td>\n",
       "      <td>2.707</td>\n",
       "      <td>8.8071</td>\n",
       "      <td>9.702400</td>\n",
       "      <td>7.99585</td>\n",
       "      <td>417.114</td>\n",
       "      <td>1</td>\n",
       "      <td>0</td>\n",
       "    </tr>\n",
       "    <tr>\n",
       "      <th>1</th>\n",
       "      <td>83</td>\n",
       "      <td>20.690495</td>\n",
       "      <td>92</td>\n",
       "      <td>3.115</td>\n",
       "      <td>8.8438</td>\n",
       "      <td>5.429285</td>\n",
       "      <td>4.06405</td>\n",
       "      <td>468.786</td>\n",
       "      <td>1</td>\n",
       "      <td>0</td>\n",
       "    </tr>\n",
       "    <tr>\n",
       "      <th>2</th>\n",
       "      <td>82</td>\n",
       "      <td>23.124670</td>\n",
       "      <td>91</td>\n",
       "      <td>4.498</td>\n",
       "      <td>17.9393</td>\n",
       "      <td>22.432040</td>\n",
       "      <td>9.27715</td>\n",
       "      <td>554.697</td>\n",
       "      <td>1</td>\n",
       "      <td>0</td>\n",
       "    </tr>\n",
       "    <tr>\n",
       "      <th>3</th>\n",
       "      <td>68</td>\n",
       "      <td>21.367521</td>\n",
       "      <td>77</td>\n",
       "      <td>3.226</td>\n",
       "      <td>9.8827</td>\n",
       "      <td>7.169560</td>\n",
       "      <td>12.76600</td>\n",
       "      <td>928.220</td>\n",
       "      <td>1</td>\n",
       "      <td>0</td>\n",
       "    </tr>\n",
       "    <tr>\n",
       "      <th>4</th>\n",
       "      <td>86</td>\n",
       "      <td>21.111111</td>\n",
       "      <td>92</td>\n",
       "      <td>3.549</td>\n",
       "      <td>6.6994</td>\n",
       "      <td>4.819240</td>\n",
       "      <td>10.57635</td>\n",
       "      <td>773.920</td>\n",
       "      <td>1</td>\n",
       "      <td>0</td>\n",
       "    </tr>\n",
       "  </tbody>\n",
       "</table>\n",
       "</div>"
      ],
      "text/plain": [
       "   Age        BMI  Glucose  Insulin   Leptin  Adiponectin  Resistin    MCP.1  \\\n",
       "0   48  23.500000       70    2.707   8.8071     9.702400   7.99585  417.114   \n",
       "1   83  20.690495       92    3.115   8.8438     5.429285   4.06405  468.786   \n",
       "2   82  23.124670       91    4.498  17.9393    22.432040   9.27715  554.697   \n",
       "3   68  21.367521       77    3.226   9.8827     7.169560  12.76600  928.220   \n",
       "4   86  21.111111       92    3.549   6.6994     4.819240  10.57635  773.920   \n",
       "\n",
       "   Classification  target  \n",
       "0               1       0  \n",
       "1               1       0  \n",
       "2               1       0  \n",
       "3               1       0  \n",
       "4               1       0  "
      ]
     },
     "execution_count": 4,
     "metadata": {},
     "output_type": "execute_result"
    }
   ],
   "source": [
    "data = data.drop(columns=[\"HOMA\"])\n",
    "data.head()"
   ]
  },
  {
   "cell_type": "code",
   "execution_count": 5,
   "id": "ebf68ee6",
   "metadata": {},
   "outputs": [],
   "source": [
    "from sklearn.linear_model import LinearRegression"
   ]
  },
  {
   "cell_type": "code",
   "execution_count": 6,
   "id": "1f19b9d1",
   "metadata": {},
   "outputs": [
    {
     "name": "stdout",
     "output_type": "stream",
     "text": [
      "       Feature       VIF\n",
      "4       Leptin  1.864405\n",
      "1          BMI  1.781112\n",
      "2      Glucose  1.603086\n",
      "3      Insulin  1.416269\n",
      "6     Resistin  1.341699\n",
      "7        MCP.1  1.330561\n",
      "5  Adiponectin  1.256786\n",
      "0          Age  1.147352\n"
     ]
    }
   ],
   "source": [
    "features = [\"Age\", \"BMI\", \"Glucose\", \"Insulin\", \"Leptin\", \"Adiponectin\", \"Resistin\", \"MCP.1\"]\n",
    "X = data[features].values\n",
    "\n",
    "vifs = []\n",
    "for i in range(X.shape[1]):\n",
    "    y = X[:, i]\n",
    "    X_others = np.delete(X, i, axis=1)\n",
    "    model = LinearRegression().fit(X_others, y)\n",
    "    r2 = model.score(X_others, y)\n",
    "    vif = 1.0 / max(1.0 - r2, 1e-12)  # numerical safety\n",
    "    vifs.append(vif)\n",
    "\n",
    "vif_df = pd.DataFrame({'Feature': features, 'VIF': vifs}).sort_values('VIF', ascending=False)\n",
    "print(vif_df)"
   ]
  },
  {
   "cell_type": "markdown",
   "id": "ca87c5c3",
   "metadata": {},
   "source": [
    "**After dropping HOMA**\n",
    "- **Insulin VIF = 1.42** (no longer problematic). \n",
    "- **Glucose VIF = 1.60** (safe).\n",
    "- After dropping HOMA, all features now **VIF < 2**, which means **no significant multicollinearity** remains. \n",
    "\n",
    "Dropping HOMA solved the multicollinearity problem. Now Logistic Regression and Ridge Regression can be trained without coefficient instability.\n",
    "\n",
    "### 1.2  Log transformation "
   ]
  },
  {
   "cell_type": "code",
   "execution_count": 7,
   "id": "0138d85c",
   "metadata": {},
   "outputs": [
    {
     "data": {
      "image/png": "[encoded data removed]",
      "text/plain": [
       "<Figure size 1200x800 with 6 Axes>"
      ]
     },
     "metadata": {},
     "output_type": "display_data"
    }
   ],
   "source": [
    "skewed_features = [\"Insulin\", \"Leptin\", \"Resistin\", \"MCP.1\", \"Adiponectin\"] # Features to log-transform (already dropped HOMA)\n",
    "\n",
    "# Apply log(1+x) transformation to handle skewness & avoid log(0)\n",
    "for col in skewed_features:\n",
    "    data[col] = np.log1p(data[col])\n",
    "\n",
    "data[skewed_features].hist(bins=20, figsize=(12, 8), edgecolor='black')\n",
    "plt.suptitle(\"Skewed Feature Distributions\", fontsize=16)\n",
    "plt.show()"
   ]
  },
  {
   "cell_type": "markdown",
   "id": "dce747bd",
   "metadata": {},
   "source": [
    "Several features in our dataset (Insulin, Leptin, Resistin, MCP.1, and Adiponectin) \n",
    "show **strong right-skewness**, meaning most values are small with a few very large outliers.  \n",
    "\n",
    "Such skewed distributions can negatively impact a **Logistic Regression** model, \n",
    "which assume more normally distributed features and can be overly influenced by extreme values.  \n",
    "\n",
    "To address this, we apply a **logarithmic transformation** using `np.log1p(x)` \n",
    "(log(1 + x)) to compress the scale of large values while preserving the relative \n",
    "order of data points. This makes the distributions more symmetric and reduces \n",
    "the influence of outliers.  \n",
    "\n",
    "We perform this transformation **before splitting the dataset** because the log \n",
    "function is a deterministic transformation that does not depend on dataset statistics \n",
    "(e.g., mean, variance). Therefore, it does **not cause data leakage**.\n",
    "\n",
    "\n",
    "### 1.3 Train-Test Split "
   ]
  },
  {
   "cell_type": "code",
   "execution_count": 8,
   "id": "909ad3c0",
   "metadata": {},
   "outputs": [],
   "source": [
    "from sklearn.model_selection import train_test_split\n",
    "from sklearn.preprocessing import StandardScaler"
   ]
  },
  {
   "cell_type": "code",
   "execution_count": 9,
   "id": "ea7cf568",
   "metadata": {},
   "outputs": [],
   "source": [
    "X = data.drop(columns=[\"target\", \"Classification\"])\n",
    "y = data[\"target\"]\n",
    "\n",
    "X_train, X_test, y_train, y_test = train_test_split(X, y, test_size=0.2, stratify=y, random_state=42)"
   ]
  },
  {
   "cell_type": "markdown",
   "id": "c11404a8",
   "metadata": {},
   "source": [
    "- We split the dataset into **80% training data** and **20% testing data** using `train_test_split`.  \n",
    "- The `stratify=y` argument ensures that the **class distribution** (ratio of healthy to not healthy cases) is preserved in both the training and testing sets.  \n",
    "- We set `random_state=42` for reproducibility so results remain consistent across runs."
   ]
  },
  {
   "cell_type": "markdown",
   "id": "1cfa44d2",
   "metadata": {},
   "source": [
    "### 1.4 Feature Scaling "
   ]
  },
  {
   "cell_type": "code",
   "execution_count": 10,
   "id": "c5cb88e7",
   "metadata": {},
   "outputs": [],
   "source": [
    "scaler = StandardScaler()\n",
    "X_train_scaled = scaler.fit_transform(X_train)\n",
    "X_test_scaled = scaler.transform(X_test)"
   ]
  },
  {
   "cell_type": "markdown",
   "id": "b2dc13aa",
   "metadata": {},
   "source": [
    "- Many machine learning models (e.g., Logistic Regression, Ridge Regression, SVM) are sensitive to the scale of input features. \n",
    "- We applied **StandardScaler**, which transforms features so that they have **mean = 0 and standard deviation = 1**.  \n",
    "- Importantly, the scaler was **fit only on the training data** and then applied to both training and test sets. This prevents **data leakage** from the test set into the training process.\n",
    "\n",
    "## 2. Logistic Regression (Baseline Model)"
   ]
  },
  {
   "cell_type": "code",
   "execution_count": 11,
   "id": "ac402a2f",
   "metadata": {},
   "outputs": [],
   "source": [
    "from sklearn.linear_model import LogisticRegression\n",
    "from sklearn.metrics import accuracy_score, precision_score, recall_score, f1_score, roc_auc_score, RocCurveDisplay\n",
    "\n",
    "# Initialize Logistic Regression\n",
    "log_reg = LogisticRegression(class_weight=\"balanced\", random_state=42, max_iter=1000)\n",
    "\n",
    "# Fit the model\n",
    "log_reg.fit(X_train_scaled, y_train)\n",
    "\n",
    "# Predictions\n",
    "y_pred = log_reg.predict(X_test_scaled)\n",
    "y_proba = log_reg.predict_proba(X_test_scaled)[:, 1]"
   ]
  },
  {
   "cell_type": "code",
   "execution_count": 12,
   "id": "b1524325",
   "metadata": {},
   "outputs": [
    {
     "name": "stdout",
     "output_type": "stream",
     "text": [
      "Accuracy: 0.75\n",
      "Precision: 0.8181818181818182\n",
      "Recall: 0.6923076923076923\n",
      "F1 Score: 0.75\n",
      "ROC AUC: 0.8111888111888111\n"
     ]
    },
    {
     "data": {
      "text/plain": [
       "<sklearn.metrics._plot.roc_curve.RocCurveDisplay at 0x1596c288110>"
      ]
     },
     "execution_count": 12,
     "metadata": {},
     "output_type": "execute_result"
    },
    {
     "data": {
      "image/png": "[encoded data removed]",
      "text/plain": [
       "<Figure size 640x480 with 1 Axes>"
      ]
     },
     "metadata": {},
     "output_type": "display_data"
    }
   ],
   "source": [
    "# Evaluation metrics\n",
    "print(\"Accuracy:\", accuracy_score(y_test, y_pred))\n",
    "print(\"Precision:\", precision_score(y_test, y_pred))\n",
    "print(\"Recall:\", recall_score(y_test, y_pred))\n",
    "print(\"F1 Score:\", f1_score(y_test, y_pred))\n",
    "print(\"ROC AUC:\", roc_auc_score(y_test, y_proba))\n",
    "\n",
    "# Plot ROC Curve\n",
    "RocCurveDisplay.from_estimator(log_reg, X_test_scaled, y_test)"
   ]
  },
  {
   "cell_type": "markdown",
   "id": "604141f6",
   "metadata": {},
   "source": [
    "We start with **Logistic Regression** as our baseline classifier.  \n",
    "Logistic Regression models the probability of the positive class (e.g., malignant tumor) \n",
    "using a linear combination of features and the logistic (sigmoid) function.  \n",
    "\n",
    "Since class imbalance can bias predictions, we used the parameter \n",
    "`class_weight=\"balanced\"` to give equal importance to both classes.  \n",
    "This ensures that the model does not favor the majority class.\n",
    "\n",
    "---\n",
    "\n",
    "### Evaluation Metrics\n",
    "\n",
    "The model was evaluated using several performance metrics:\n",
    "\n",
    "- **Accuracy = 0.75**  \n",
    "  → The model correctly predicted **75%** of all cases.  \n",
    "\n",
    "- **Precision = 0.82**  \n",
    "  → When the model predicts **malignant**, it is correct **82% of the time**.  \n",
    "  → High precision means fewer false positives (healthy patients misclassified as cancer).  \n",
    "\n",
    "- **Recall = 0.69**  \n",
    "  → The model correctly identified **69% of actual malignant cases**.  \n",
    "  → Recall is critical in medical applications, since missing a cancer case (false negative) \n",
    "    is more dangerous than a false alarm.  \n",
    "\n",
    "- **F1 Score = 0.75**  \n",
    "  → The harmonic mean of precision and recall.  \n",
    "  → Balances the trade-off between false positives and false negatives.  \n",
    "\n",
    "- **ROC AUC = 0.82**  \n",
    "  → Measures the model’s ability to discriminate between classes across all thresholds.  \n",
    "  → An AUC of 0.82 indicates **good separability** — the model is able to rank malignant \n",
    "    cases higher than benign ones most of the time.  \n",
    "\n",
    "---\n",
    "\n",
    "### Interpretation\n",
    "\n",
    "- The model achieves **reasonable overall performance** with balanced precision and recall.  \n",
    "- However, **recall (0.69)** is lower than precision.  \n",
    "  - This means the model misses some malignant cases (false negatives).  \n",
    "  - In a medical context, we may want to prioritize recall (catching all cancers), even at the cost of precision.  \n",
    "- ROC AUC of **0.82** suggests the model has good potential, but further improvements \n",
    "  (e.g., with Ridge, SVM, or tree-based models) may increase recall without sacrificing too much precision.\n",
    "\n",
    "---\n",
    "\n",
    "This Logistic Regression serves as a **baseline benchmark**.  \n",
    "Next, we will compare it against more advanced models starting with **Ridge Regression**."
   ]
  },
  {
   "cell_type": "code",
   "execution_count": null,
   "id": "db7b5f9e",
   "metadata": {},
   "outputs": [],
   "source": []
  }
 ],
 "metadata": {
  "kernelspec": {
   "display_name": "Python (cleanpy)",
   "language": "python",
   "name": "cleanpy"
  },
  "language_info": {
   "codemirror_mode": {
    "name": "ipython",
    "version": 3
   },
   "file_extension": ".py",
   "mimetype": "text/x-python",
   "name": "python",
   "nbconvert_exporter": "python",
   "pygments_lexer": "ipython3",
   "version": "3.11.13"
  }
 },
 "nbformat": 4,
 "nbformat_minor": 5
}
