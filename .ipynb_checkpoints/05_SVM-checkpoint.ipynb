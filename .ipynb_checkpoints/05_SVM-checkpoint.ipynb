{
 "cells": [
  {
   "cell_type": "code",
   "execution_count": 1,
   "id": "5cebfab4",
   "metadata": {},
   "outputs": [],
   "source": [
    "import numpy as np\n",
    "import pandas as pd\n",
    "import matplotlib.pyplot as plt\n",
    "import seaborn as sns\n",
    "\n",
    "from sklearn.model_selection import train_test_split, GridSearchCV, StratifiedKFold\n",
    "from sklearn.metrics import (\n",
    "    accuracy_score, precision_score, recall_score, f1_score, roc_auc_score,\n",
    "    confusion_matrix, RocCurveDisplay, ConfusionMatrixDisplay, precision_recall_curve\n",
    ")\n",
    "\n",
    "from sklearn.tree import DecisionTreeClassifier\n",
    "from sklearn.ensemble import RandomForestClassifier, GradientBoostingClassifier"
   ]
  },
  {
   "cell_type": "code",
   "execution_count": 2,
   "id": "1c8a88b3",
   "metadata": {},
   "outputs": [],
   "source": [
    "data=pd.read_csv(\"dataR2.csv\")\n",
    "data[\"target\"] = data[\"Classification\"].map({1: 0, 2: 1})"
   ]
  },
  {
   "cell_type": "code",
   "execution_count": 3,
   "id": "2f1c02f2",
   "metadata": {},
   "outputs": [],
   "source": [
    "X = data.drop(columns=[\"target\", \"Classification\"])\n",
    "y = data[\"target\"]\n",
    "\n",
    "X_train, X_test, y_train, y_test = train_test_split(X, y, test_size=0.2, stratify=y, random_state=42)"
   ]
  },
  {
   "cell_type": "code",
   "execution_count": 6,
   "id": "354b2fcc",
   "metadata": {},
   "outputs": [
    {
     "name": "stdout",
     "output_type": "stream",
     "text": [
      "Best parameters: {'learning_rate': 0.05, 'max_depth': 5, 'max_features': 'sqrt', 'min_samples_leaf': 1, 'min_samples_split': 8, 'n_estimators': 100, 'subsample': 0.8}\n",
      "Best cross-validated recall: 0.8836363636363638\n"
     ]
    }
   ],
   "source": [
    "param_grid = {\n",
    "    'n_estimators': [100, 200],\n",
    "    'learning_rate': [0.05, 0.1],\n",
    "    'max_depth': [3, 4, 5],\n",
    "    'min_samples_split': [2, 5, 8],\n",
    "    'min_samples_leaf': [1, 3],\n",
    "    'subsample': [0.8, 1.0],\n",
    "    'max_features': ['sqrt'],\n",
    "}\n",
    "\n",
    "grid_search_gb = GridSearchCV(\n",
    "    GradientBoostingClassifier(random_state=42),\n",
    "    param_grid,\n",
    "    scoring='recall',\n",
    "    cv=5,\n",
    "    n_jobs=-1\n",
    ")\n",
    "\n",
    "grid_search_gb.fit(X_train, y_train)\n",
    "best_gb = grid_search_gb.best_estimator_\n",
    "print(\"Best parameters:\", grid_search_gb.best_params_)\n",
    "print(\"Best cross-validated recall:\", grid_search_gb.best_score_)"
   ]
  },
  {
   "cell_type": "code",
   "execution_count": 7,
   "id": "0b72f73b",
   "metadata": {},
   "outputs": [
    {
     "name": "stdout",
     "output_type": "stream",
     "text": [
      " Threshold  Accuracy  Precision   Recall  F1 Score\n",
      "       0.5  0.833333   0.846154 0.846154  0.846154\n",
      "       0.4  0.833333   0.800000 0.923077  0.857143\n",
      "       0.3  0.875000   0.812500 1.000000  0.896552\n",
      "       0.2  0.875000   0.812500 1.000000  0.896552\n",
      "       0.1  0.791667   0.722222 1.000000  0.838710\n",
      "ROC AUC:   0.860\n"
     ]
    }
   ],
   "source": [
    "y_proba_best_gb = best_gb.predict_proba(X_test)[:, 1]\n",
    "\n",
    "\n",
    "thresholds = [0.5, 0.4, 0.3, 0.2, 0.1]\n",
    "\n",
    "results = []\n",
    "\n",
    "for thresh in thresholds:\n",
    "    y_pred_best_gb = (y_proba_best_gb >= thresh).astype(int)\n",
    "    results.append({\n",
    "        'Threshold': thresh,\n",
    "        'Accuracy': accuracy_score(y_test, y_pred_best_gb),\n",
    "        'Precision': precision_score(y_test, y_pred_best_gb),\n",
    "        'Recall': recall_score(y_test, y_pred_best_gb),\n",
    "        'F1 Score': f1_score(y_test, y_pred_best_gb)\n",
    "    })\n",
    "\n",
    "df_results = pd.DataFrame(results)\n",
    "\n",
    "print(df_results.to_string(index=False))\n",
    "\n",
    "\n",
    "auc  = roc_auc_score(y_test, y_proba_best_gb)\n",
    "print(f\"ROC AUC:   {auc:.3f}\")"
   ]
  },
  {
   "cell_type": "code",
   "execution_count": null,
   "id": "d003e4fa",
   "metadata": {},
   "outputs": [],
   "source": []
  }
 ],
 "metadata": {
  "kernelspec": {
   "display_name": "Python (cleanpy)",
   "language": "python",
   "name": "cleanpy"
  },
  "language_info": {
   "codemirror_mode": {
    "name": "ipython",
    "version": 3
   },
   "file_extension": ".py",
   "mimetype": "text/x-python",
   "name": "python",
   "nbconvert_exporter": "python",
   "pygments_lexer": "ipython3",
   "version": "3.11.13"
  }
 },
 "nbformat": 4,
 "nbformat_minor": 5
}
